{
 "cells": [
  {
   "cell_type": "markdown",
   "id": "2da8b9ce-3349-436a-8d72-4a167e93e8da",
   "metadata": {},
   "source": [
    "# Pandas First Steps"
   ]
  },
  {
   "cell_type": "markdown",
   "id": "9a44d337-1fa2-4509-9f0a-a05bb2a58631",
   "metadata": {},
   "source": [
    "## 1. Installing Pandas"
   ]
  },
  {
   "cell_type": "code",
   "execution_count": 1,
   "id": "b0b07e0c-73eb-481c-a942-cb4614f46222",
   "metadata": {
    "tags": []
   },
   "outputs": [
    {
     "name": "stdout",
     "output_type": "stream",
     "text": [
      "Defaulting to user installation because normal site-packages is not writeable\n",
      "Requirement already satisfied: pandas in /Users/mac/opt/anaconda3/envs/novo/lib/python3.9/site-packages (2.0.3)\n",
      "Requirement already satisfied: numpy>=1.20.3 in /Users/mac/opt/anaconda3/envs/novo/lib/python3.9/site-packages (from pandas) (1.25.1)\n",
      "Requirement already satisfied: python-dateutil>=2.8.2 in /Users/mac/opt/anaconda3/envs/novo/lib/python3.9/site-packages (from pandas) (2.8.2)\n",
      "Requirement already satisfied: pytz>=2020.1 in /Users/mac/opt/anaconda3/envs/novo/lib/python3.9/site-packages (from pandas) (2022.7)\n",
      "Requirement already satisfied: tzdata>=2022.1 in /Users/mac/opt/anaconda3/envs/novo/lib/python3.9/site-packages (from pandas) (2023.3)\n",
      "Requirement already satisfied: six>=1.5 in /Users/mac/opt/anaconda3/envs/novo/lib/python3.9/site-packages (from python-dateutil>=2.8.2->pandas) (1.16.0)\n",
      "Note: you may need to restart the kernel to use updated packages.\n"
     ]
    }
   ],
   "source": [
    "pip install pandas"
   ]
  },
  {
   "cell_type": "markdown",
   "id": "c6dc4ffc-8182-4117-afeb-e83d05bf058c",
   "metadata": {},
   "source": [
    "## 2. Pandas Basics"
   ]
  },
  {
   "cell_type": "markdown",
   "id": "46a830eb-e03c-46bc-867a-b0267960b135",
   "metadata": {},
   "source": [
    "### 2.1 Importing pandas as pd"
   ]
  },
  {
   "cell_type": "code",
   "execution_count": 2,
   "id": "eb125647-ca2c-4413-8ca1-c0ad596bfb80",
   "metadata": {
    "tags": []
   },
   "outputs": [],
   "source": [
    "import pandas as pd"
   ]
  },
  {
   "cell_type": "markdown",
   "id": "3273ec9b-be34-4212-bc8a-f91fb8f27e45",
   "metadata": {},
   "source": [
    "### 2.2 Creating a Series"
   ]
  },
  {
   "cell_type": "code",
   "execution_count": 4,
   "id": "8b3237cf-9cdf-4141-94e9-f644964e2962",
   "metadata": {
    "tags": []
   },
   "outputs": [
    {
     "name": "stdout",
     "output_type": "stream",
     "text": [
      "0    1\n",
      "1    2\n",
      "2    8\n",
      "3    4\n",
      "dtype: int64\n"
     ]
    }
   ],
   "source": [
    "series = pd.Series([1,2,8,4])\n",
    "print(series)"
   ]
  },
  {
   "cell_type": "markdown",
   "id": "a78dd4b0-eff0-4114-bf7e-6b97728de392",
   "metadata": {},
   "source": [
    "### 2.3 Creating a DataFrame"
   ]
  },
  {
   "cell_type": "code",
   "execution_count": 5,
   "id": "ad731b07-1fdc-4af9-8376-03dfed7ed4da",
   "metadata": {
    "tags": []
   },
   "outputs": [
    {
     "data": {
      "text/html": [
       "<div>\n",
       "<style scoped>\n",
       "    .dataframe tbody tr th:only-of-type {\n",
       "        vertical-align: middle;\n",
       "    }\n",
       "\n",
       "    .dataframe tbody tr th {\n",
       "        vertical-align: top;\n",
       "    }\n",
       "\n",
       "    .dataframe thead th {\n",
       "        text-align: right;\n",
       "    }\n",
       "</style>\n",
       "<table border=\"1\" class=\"dataframe\">\n",
       "  <thead>\n",
       "    <tr style=\"text-align: right;\">\n",
       "      <th></th>\n",
       "      <th>Name</th>\n",
       "      <th>Age</th>\n",
       "    </tr>\n",
       "  </thead>\n",
       "  <tbody>\n",
       "    <tr>\n",
       "      <th>0</th>\n",
       "      <td>Mario</td>\n",
       "      <td>25</td>\n",
       "    </tr>\n",
       "    <tr>\n",
       "      <th>1</th>\n",
       "      <td>Luigi</td>\n",
       "      <td>24</td>\n",
       "    </tr>\n",
       "    <tr>\n",
       "      <th>2</th>\n",
       "      <td>Peach</td>\n",
       "      <td>24</td>\n",
       "    </tr>\n",
       "  </tbody>\n",
       "</table>\n",
       "</div>"
      ],
      "text/plain": [
       "    Name  Age\n",
       "0  Mario   25\n",
       "1  Luigi   24\n",
       "2  Peach   24"
      ]
     },
     "execution_count": 5,
     "metadata": {},
     "output_type": "execute_result"
    }
   ],
   "source": [
    "data = {\n",
    "    'Name': ['Mario', 'Luigi', 'Peach'],\n",
    "    'Age': [25,24,24]\n",
    "}\n",
    "\n",
    "df = pd.DataFrame(data)\n",
    "\n",
    "df"
   ]
  },
  {
   "cell_type": "code",
   "execution_count": 6,
   "id": "fef7485c-8a27-4d80-a461-56d5abfb11e0",
   "metadata": {
    "tags": []
   },
   "outputs": [
    {
     "name": "stdout",
     "output_type": "stream",
     "text": [
      "    Name  Age\n",
      "0  Mario   25\n",
      "1  Luigi   24\n",
      "2  Peach   24\n",
      "--------------------\n",
      "    Name  Age\n",
      "0  Mario   25\n",
      "1  Luigi   24\n",
      "2  Peach   24\n"
     ]
    }
   ],
   "source": [
    "print(df.head())\n",
    "print(\"--\" * 10)\n",
    "print(df.tail())"
   ]
  },
  {
   "cell_type": "markdown",
   "id": "8c2eff25-8bdf-483c-994c-39d5b1263ceb",
   "metadata": {},
   "source": [
    "### 2.4 Acessing specific columns"
   ]
  },
  {
   "cell_type": "code",
   "execution_count": 7,
   "id": "36b13067-03ca-4a54-92d2-506cb23110ba",
   "metadata": {
    "tags": []
   },
   "outputs": [
    {
     "data": {
      "text/plain": [
       "0    Mario\n",
       "1    Luigi\n",
       "2    Peach\n",
       "Name: Name, dtype: object"
      ]
     },
     "execution_count": 7,
     "metadata": {},
     "output_type": "execute_result"
    }
   ],
   "source": [
    "df['Name']"
   ]
  },
  {
   "cell_type": "markdown",
   "id": "09a9e0d5-33f4-47cb-926b-80b84f218bfe",
   "metadata": {},
   "source": [
    "## 3. Data Import and Export"
   ]
  },
  {
   "cell_type": "markdown",
   "id": "31ecf580-cfe3-4e66-83f9-8a30dbad4fb7",
   "metadata": {},
   "source": [
    "### 3.1 Reading data from a CSV file"
   ]
  },
  {
   "cell_type": "code",
   "execution_count": 8,
   "id": "42aa20bb-0aa0-47c2-8c01-0a4b876e06f1",
   "metadata": {
    "tags": []
   },
   "outputs": [
    {
     "data": {
      "text/html": [
       "<div>\n",
       "<style scoped>\n",
       "    .dataframe tbody tr th:only-of-type {\n",
       "        vertical-align: middle;\n",
       "    }\n",
       "\n",
       "    .dataframe tbody tr th {\n",
       "        vertical-align: top;\n",
       "    }\n",
       "\n",
       "    .dataframe thead th {\n",
       "        text-align: right;\n",
       "    }\n",
       "</style>\n",
       "<table border=\"1\" class=\"dataframe\">\n",
       "  <thead>\n",
       "    <tr style=\"text-align: right;\">\n",
       "      <th></th>\n",
       "      <th>Name</th>\n",
       "      <th>Age</th>\n",
       "    </tr>\n",
       "  </thead>\n",
       "  <tbody>\n",
       "    <tr>\n",
       "      <th>0</th>\n",
       "      <td>Dave</td>\n",
       "      <td>28</td>\n",
       "    </tr>\n",
       "    <tr>\n",
       "      <th>1</th>\n",
       "      <td>Mary</td>\n",
       "      <td>30</td>\n",
       "    </tr>\n",
       "    <tr>\n",
       "      <th>2</th>\n",
       "      <td>Julia</td>\n",
       "      <td>12</td>\n",
       "    </tr>\n",
       "    <tr>\n",
       "      <th>3</th>\n",
       "      <td>Alice</td>\n",
       "      <td>19</td>\n",
       "    </tr>\n",
       "    <tr>\n",
       "      <th>4</th>\n",
       "      <td>Diana</td>\n",
       "      <td>10</td>\n",
       "    </tr>\n",
       "    <tr>\n",
       "      <th>5</th>\n",
       "      <td>Frank</td>\n",
       "      <td>49</td>\n",
       "    </tr>\n",
       "    <tr>\n",
       "      <th>6</th>\n",
       "      <td>Bob</td>\n",
       "      <td>40</td>\n",
       "    </tr>\n",
       "    <tr>\n",
       "      <th>7</th>\n",
       "      <td>Grace</td>\n",
       "      <td>31</td>\n",
       "    </tr>\n",
       "    <tr>\n",
       "      <th>8</th>\n",
       "      <td>Xena</td>\n",
       "      <td>45</td>\n",
       "    </tr>\n",
       "    <tr>\n",
       "      <th>9</th>\n",
       "      <td>Andy</td>\n",
       "      <td>36</td>\n",
       "    </tr>\n",
       "  </tbody>\n",
       "</table>\n",
       "</div>"
      ],
      "text/plain": [
       "    Name  Age\n",
       "0   Dave   28\n",
       "1   Mary   30\n",
       "2  Julia   12\n",
       "3  Alice   19\n",
       "4  Diana   10\n",
       "5  Frank   49\n",
       "6    Bob   40\n",
       "7  Grace   31\n",
       "8   Xena   45\n",
       "9   Andy   36"
      ]
     },
     "execution_count": 8,
     "metadata": {},
     "output_type": "execute_result"
    }
   ],
   "source": [
    "df = pd.read_csv('sample.csv')\n",
    "df"
   ]
  },
  {
   "cell_type": "markdown",
   "id": "f1c445bd-c5ee-4027-9541-ace833d78e72",
   "metadata": {},
   "source": [
    "### 3.2 Saving data to a CSV file"
   ]
  },
  {
   "cell_type": "code",
   "execution_count": 9,
   "id": "afb54bdd-83b5-4a0e-9449-9e647bf6b550",
   "metadata": {
    "tags": []
   },
   "outputs": [],
   "source": [
    "df.to_csv('output.csv')"
   ]
  },
  {
   "cell_type": "markdown",
   "id": "c865902f-4458-48df-a423-9178ab01e643",
   "metadata": {},
   "source": [
    "## 4. Basic Data Exploration"
   ]
  },
  {
   "cell_type": "markdown",
   "id": "0a2d1849-766f-40e5-9123-0ce48a8f61fa",
   "metadata": {},
   "source": [
    "### 4.1 Top 5 rows and last 5 roes"
   ]
  },
  {
   "cell_type": "code",
   "execution_count": 10,
   "id": "fbf39497-b711-4cde-adfd-573f2b7d031a",
   "metadata": {
    "tags": []
   },
   "outputs": [
    {
     "name": "stdout",
     "output_type": "stream",
     "text": [
      "    Name  Age\n",
      "0   Dave   28\n",
      "1   Mary   30\n",
      "2  Julia   12\n",
      "3  Alice   19\n",
      "4  Diana   10\n",
      "--------------------\n",
      "    Name  Age\n",
      "5  Frank   49\n",
      "6    Bob   40\n",
      "7  Grace   31\n",
      "8   Xena   45\n",
      "9   Andy   36\n"
     ]
    }
   ],
   "source": [
    "# Top 5 rows\n",
    "print(df.head())\n",
    "\n",
    "print('--' * 10)\n",
    "\n",
    "# Last 5 rows\n",
    "print(df.tail())\n"
   ]
  },
  {
   "cell_type": "markdown",
   "id": "5a64a4e2-c567-4213-9758-f5aa925e4cc3",
   "metadata": {},
   "source": [
    "### 4.2 Summary statistics"
   ]
  },
  {
   "cell_type": "code",
   "execution_count": 12,
   "id": "b7639ae6-7b6d-495c-b09f-c5cfe28b69ec",
   "metadata": {
    "tags": []
   },
   "outputs": [
    {
     "data": {
      "text/html": [
       "<div>\n",
       "<style scoped>\n",
       "    .dataframe tbody tr th:only-of-type {\n",
       "        vertical-align: middle;\n",
       "    }\n",
       "\n",
       "    .dataframe tbody tr th {\n",
       "        vertical-align: top;\n",
       "    }\n",
       "\n",
       "    .dataframe thead th {\n",
       "        text-align: right;\n",
       "    }\n",
       "</style>\n",
       "<table border=\"1\" class=\"dataframe\">\n",
       "  <thead>\n",
       "    <tr style=\"text-align: right;\">\n",
       "      <th></th>\n",
       "      <th>Name</th>\n",
       "      <th>Age</th>\n",
       "    </tr>\n",
       "  </thead>\n",
       "  <tbody>\n",
       "    <tr>\n",
       "      <th>count</th>\n",
       "      <td>10</td>\n",
       "      <td>10.000000</td>\n",
       "    </tr>\n",
       "    <tr>\n",
       "      <th>unique</th>\n",
       "      <td>10</td>\n",
       "      <td>NaN</td>\n",
       "    </tr>\n",
       "    <tr>\n",
       "      <th>top</th>\n",
       "      <td>Dave</td>\n",
       "      <td>NaN</td>\n",
       "    </tr>\n",
       "    <tr>\n",
       "      <th>freq</th>\n",
       "      <td>1</td>\n",
       "      <td>NaN</td>\n",
       "    </tr>\n",
       "    <tr>\n",
       "      <th>mean</th>\n",
       "      <td>NaN</td>\n",
       "      <td>30.000000</td>\n",
       "    </tr>\n",
       "    <tr>\n",
       "      <th>std</th>\n",
       "      <td>NaN</td>\n",
       "      <td>13.216152</td>\n",
       "    </tr>\n",
       "    <tr>\n",
       "      <th>min</th>\n",
       "      <td>NaN</td>\n",
       "      <td>10.000000</td>\n",
       "    </tr>\n",
       "    <tr>\n",
       "      <th>25%</th>\n",
       "      <td>NaN</td>\n",
       "      <td>21.250000</td>\n",
       "    </tr>\n",
       "    <tr>\n",
       "      <th>50%</th>\n",
       "      <td>NaN</td>\n",
       "      <td>30.500000</td>\n",
       "    </tr>\n",
       "    <tr>\n",
       "      <th>75%</th>\n",
       "      <td>NaN</td>\n",
       "      <td>39.000000</td>\n",
       "    </tr>\n",
       "    <tr>\n",
       "      <th>max</th>\n",
       "      <td>NaN</td>\n",
       "      <td>49.000000</td>\n",
       "    </tr>\n",
       "  </tbody>\n",
       "</table>\n",
       "</div>"
      ],
      "text/plain": [
       "        Name        Age\n",
       "count     10  10.000000\n",
       "unique    10        NaN\n",
       "top     Dave        NaN\n",
       "freq       1        NaN\n",
       "mean     NaN  30.000000\n",
       "std      NaN  13.216152\n",
       "min      NaN  10.000000\n",
       "25%      NaN  21.250000\n",
       "50%      NaN  30.500000\n",
       "75%      NaN  39.000000\n",
       "max      NaN  49.000000"
      ]
     },
     "execution_count": 12,
     "metadata": {},
     "output_type": "execute_result"
    }
   ],
   "source": [
    "df.describe(include=\"all\")"
   ]
  },
  {
   "cell_type": "markdown",
   "id": "1205d770-7991-407d-809e-64351cd64f83",
   "metadata": {},
   "source": [
    "### 4.3 Info about data types and missing values"
   ]
  },
  {
   "cell_type": "code",
   "execution_count": 13,
   "id": "23a544a8-c35c-413f-8e31-b6b59cb307eb",
   "metadata": {
    "tags": []
   },
   "outputs": [
    {
     "name": "stdout",
     "output_type": "stream",
     "text": [
      "<class 'pandas.core.frame.DataFrame'>\n",
      "RangeIndex: 10 entries, 0 to 9\n",
      "Data columns (total 2 columns):\n",
      " #   Column  Non-Null Count  Dtype \n",
      "---  ------  --------------  ----- \n",
      " 0   Name    10 non-null     object\n",
      " 1   Age     10 non-null     int64 \n",
      "dtypes: int64(1), object(1)\n",
      "memory usage: 288.0+ bytes\n"
     ]
    }
   ],
   "source": [
    "df.info()"
   ]
  },
  {
   "cell_type": "markdown",
   "id": "c04d1f36-9e50-439b-9ff6-65bbc16b5794",
   "metadata": {},
   "source": [
    "### 4.4 Checking missing values"
   ]
  },
  {
   "cell_type": "code",
   "execution_count": 14,
   "id": "9ddf82e0-ad46-4621-83b9-3f7cd3567d60",
   "metadata": {
    "tags": []
   },
   "outputs": [
    {
     "data": {
      "text/plain": [
       "Name    0\n",
       "Age     0\n",
       "dtype: int64"
      ]
     },
     "execution_count": 14,
     "metadata": {},
     "output_type": "execute_result"
    }
   ],
   "source": [
    "df.isnull().sum()"
   ]
  },
  {
   "cell_type": "markdown",
   "id": "bc0edaff-b66c-430d-810e-d32be10dd795",
   "metadata": {},
   "source": [
    "### 4.5 Checking unique values of a column"
   ]
  },
  {
   "cell_type": "code",
   "execution_count": 15,
   "id": "e776fc47-3a9e-4aad-8421-ea8023b49ffd",
   "metadata": {
    "tags": []
   },
   "outputs": [
    {
     "data": {
      "text/plain": [
       "array(['Dave', 'Mary', 'Julia', 'Alice', 'Diana', 'Frank', 'Bob', 'Grace',\n",
       "       'Xena', 'Andy'], dtype=object)"
      ]
     },
     "execution_count": 15,
     "metadata": {},
     "output_type": "execute_result"
    }
   ],
   "source": [
    "df['Name'].unique()"
   ]
  },
  {
   "cell_type": "markdown",
   "id": "a8d09107-b66e-4572-a993-5226ae8c3258",
   "metadata": {
    "tags": []
   },
   "source": [
    "### 4.6 Checking unique values of all columns"
   ]
  },
  {
   "cell_type": "code",
   "execution_count": 18,
   "id": "260adc1d-e010-4b8c-93f6-cbe92cf9b015",
   "metadata": {
    "tags": []
   },
   "outputs": [
    {
     "name": "stdout",
     "output_type": "stream",
     "text": [
      "Name\n",
      "['Dave' 'Mary' 'Julia' 'Alice' 'Diana' 'Frank' 'Bob' 'Grace' 'Xena' 'Andy']\n",
      "\n",
      "Age\n",
      "[28 30 12 19 10 49 40 31 45 36]\n",
      "\n"
     ]
    }
   ],
   "source": [
    "for i in df:\n",
    "    print(i)\n",
    "    print(df[i].unique())\n",
    "    print()"
   ]
  },
  {
   "cell_type": "markdown",
   "id": "4f6fcc7f-84e0-444b-88ba-318031d8bb73",
   "metadata": {},
   "source": [
    "## 5. Data Manipulation Basics"
   ]
  },
  {
   "cell_type": "markdown",
   "id": "bbea847f-cd48-4476-8ac3-bbf8a83b4ac7",
   "metadata": {},
   "source": [
    "### 5.1 Adding a new column"
   ]
  },
  {
   "cell_type": "code",
   "execution_count": 19,
   "id": "e99ab2e3-df0f-4882-b947-380329699765",
   "metadata": {
    "tags": []
   },
   "outputs": [
    {
     "data": {
      "text/html": [
       "<div>\n",
       "<style scoped>\n",
       "    .dataframe tbody tr th:only-of-type {\n",
       "        vertical-align: middle;\n",
       "    }\n",
       "\n",
       "    .dataframe tbody tr th {\n",
       "        vertical-align: top;\n",
       "    }\n",
       "\n",
       "    .dataframe thead th {\n",
       "        text-align: right;\n",
       "    }\n",
       "</style>\n",
       "<table border=\"1\" class=\"dataframe\">\n",
       "  <thead>\n",
       "    <tr style=\"text-align: right;\">\n",
       "      <th></th>\n",
       "      <th>Name</th>\n",
       "      <th>Age</th>\n",
       "      <th>Job title</th>\n",
       "    </tr>\n",
       "  </thead>\n",
       "  <tbody>\n",
       "    <tr>\n",
       "      <th>0</th>\n",
       "      <td>Dave</td>\n",
       "      <td>28</td>\n",
       "      <td>Job name 1</td>\n",
       "    </tr>\n",
       "    <tr>\n",
       "      <th>1</th>\n",
       "      <td>Mary</td>\n",
       "      <td>30</td>\n",
       "      <td>Job name 2</td>\n",
       "    </tr>\n",
       "    <tr>\n",
       "      <th>2</th>\n",
       "      <td>Julia</td>\n",
       "      <td>12</td>\n",
       "      <td>Job name 3</td>\n",
       "    </tr>\n",
       "    <tr>\n",
       "      <th>3</th>\n",
       "      <td>Alice</td>\n",
       "      <td>19</td>\n",
       "      <td>Job name 4</td>\n",
       "    </tr>\n",
       "    <tr>\n",
       "      <th>4</th>\n",
       "      <td>Diana</td>\n",
       "      <td>10</td>\n",
       "      <td>Job name 5</td>\n",
       "    </tr>\n",
       "    <tr>\n",
       "      <th>5</th>\n",
       "      <td>Frank</td>\n",
       "      <td>49</td>\n",
       "      <td>Job name 6</td>\n",
       "    </tr>\n",
       "    <tr>\n",
       "      <th>6</th>\n",
       "      <td>Bob</td>\n",
       "      <td>40</td>\n",
       "      <td>Job name 7</td>\n",
       "    </tr>\n",
       "    <tr>\n",
       "      <th>7</th>\n",
       "      <td>Grace</td>\n",
       "      <td>31</td>\n",
       "      <td>Job name 8</td>\n",
       "    </tr>\n",
       "    <tr>\n",
       "      <th>8</th>\n",
       "      <td>Xena</td>\n",
       "      <td>45</td>\n",
       "      <td>Job name 9</td>\n",
       "    </tr>\n",
       "    <tr>\n",
       "      <th>9</th>\n",
       "      <td>Andy</td>\n",
       "      <td>36</td>\n",
       "      <td>Job name 10</td>\n",
       "    </tr>\n",
       "  </tbody>\n",
       "</table>\n",
       "</div>"
      ],
      "text/plain": [
       "    Name  Age    Job title\n",
       "0   Dave   28   Job name 1\n",
       "1   Mary   30   Job name 2\n",
       "2  Julia   12   Job name 3\n",
       "3  Alice   19   Job name 4\n",
       "4  Diana   10   Job name 5\n",
       "5  Frank   49   Job name 6\n",
       "6    Bob   40   Job name 7\n",
       "7  Grace   31   Job name 8\n",
       "8   Xena   45   Job name 9\n",
       "9   Andy   36  Job name 10"
      ]
     },
     "execution_count": 19,
     "metadata": {},
     "output_type": "execute_result"
    }
   ],
   "source": [
    "df['Job title'] = ['Job name 1',\n",
    "                   'Job name 2',\n",
    "                   'Job name 3',\n",
    "                   'Job name 4',\n",
    "                   'Job name 5',\n",
    "                   'Job name 6',\n",
    "                   'Job name 7',\n",
    "                   'Job name 8',\n",
    "                   'Job name 9',\n",
    "                   'Job name 10',\n",
    "                  ]\n",
    "\n",
    "df"
   ]
  },
  {
   "cell_type": "markdown",
   "id": "ad5eebb6-84ec-4812-b9f2-6280ee4a99f2",
   "metadata": {},
   "source": [
    "### 5.2 Filtering data"
   ]
  },
  {
   "cell_type": "code",
   "execution_count": 21,
   "id": "e9ee411a-7568-4a20-8d7a-ec2599b34a64",
   "metadata": {
    "tags": []
   },
   "outputs": [
    {
     "data": {
      "text/html": [
       "<div>\n",
       "<style scoped>\n",
       "    .dataframe tbody tr th:only-of-type {\n",
       "        vertical-align: middle;\n",
       "    }\n",
       "\n",
       "    .dataframe tbody tr th {\n",
       "        vertical-align: top;\n",
       "    }\n",
       "\n",
       "    .dataframe thead th {\n",
       "        text-align: right;\n",
       "    }\n",
       "</style>\n",
       "<table border=\"1\" class=\"dataframe\">\n",
       "  <thead>\n",
       "    <tr style=\"text-align: right;\">\n",
       "      <th></th>\n",
       "      <th>Name</th>\n",
       "      <th>Age</th>\n",
       "      <th>Job title</th>\n",
       "    </tr>\n",
       "  </thead>\n",
       "  <tbody>\n",
       "    <tr>\n",
       "      <th>0</th>\n",
       "      <td>Dave</td>\n",
       "      <td>28</td>\n",
       "      <td>Job name 1</td>\n",
       "    </tr>\n",
       "    <tr>\n",
       "      <th>1</th>\n",
       "      <td>Mary</td>\n",
       "      <td>30</td>\n",
       "      <td>Job name 2</td>\n",
       "    </tr>\n",
       "    <tr>\n",
       "      <th>5</th>\n",
       "      <td>Frank</td>\n",
       "      <td>49</td>\n",
       "      <td>Job name 6</td>\n",
       "    </tr>\n",
       "    <tr>\n",
       "      <th>6</th>\n",
       "      <td>Bob</td>\n",
       "      <td>40</td>\n",
       "      <td>Job name 7</td>\n",
       "    </tr>\n",
       "    <tr>\n",
       "      <th>7</th>\n",
       "      <td>Grace</td>\n",
       "      <td>31</td>\n",
       "      <td>Job name 8</td>\n",
       "    </tr>\n",
       "    <tr>\n",
       "      <th>8</th>\n",
       "      <td>Xena</td>\n",
       "      <td>45</td>\n",
       "      <td>Job name 9</td>\n",
       "    </tr>\n",
       "    <tr>\n",
       "      <th>9</th>\n",
       "      <td>Andy</td>\n",
       "      <td>36</td>\n",
       "      <td>Job name 10</td>\n",
       "    </tr>\n",
       "  </tbody>\n",
       "</table>\n",
       "</div>"
      ],
      "text/plain": [
       "    Name  Age    Job title\n",
       "0   Dave   28   Job name 1\n",
       "1   Mary   30   Job name 2\n",
       "5  Frank   49   Job name 6\n",
       "6    Bob   40   Job name 7\n",
       "7  Grace   31   Job name 8\n",
       "8   Xena   45   Job name 9\n",
       "9   Andy   36  Job name 10"
      ]
     },
     "execution_count": 21,
     "metadata": {},
     "output_type": "execute_result"
    }
   ],
   "source": [
    "older_people = df[df['Age'] > 19]\n",
    "older_people"
   ]
  },
  {
   "cell_type": "markdown",
   "id": "03e80e9a-fa18-4b81-8712-1334f1ee9ee6",
   "metadata": {},
   "source": [
    "### 5.3 Sorting data"
   ]
  },
  {
   "cell_type": "code",
   "execution_count": 23,
   "id": "623f3405-c186-4aa5-a18c-bc7255250425",
   "metadata": {
    "tags": []
   },
   "outputs": [
    {
     "data": {
      "text/html": [
       "<div>\n",
       "<style scoped>\n",
       "    .dataframe tbody tr th:only-of-type {\n",
       "        vertical-align: middle;\n",
       "    }\n",
       "\n",
       "    .dataframe tbody tr th {\n",
       "        vertical-align: top;\n",
       "    }\n",
       "\n",
       "    .dataframe thead th {\n",
       "        text-align: right;\n",
       "    }\n",
       "</style>\n",
       "<table border=\"1\" class=\"dataframe\">\n",
       "  <thead>\n",
       "    <tr style=\"text-align: right;\">\n",
       "      <th></th>\n",
       "      <th>Name</th>\n",
       "      <th>Age</th>\n",
       "      <th>Job title</th>\n",
       "    </tr>\n",
       "  </thead>\n",
       "  <tbody>\n",
       "    <tr>\n",
       "      <th>5</th>\n",
       "      <td>Frank</td>\n",
       "      <td>49</td>\n",
       "      <td>Job name 6</td>\n",
       "    </tr>\n",
       "    <tr>\n",
       "      <th>8</th>\n",
       "      <td>Xena</td>\n",
       "      <td>45</td>\n",
       "      <td>Job name 9</td>\n",
       "    </tr>\n",
       "    <tr>\n",
       "      <th>6</th>\n",
       "      <td>Bob</td>\n",
       "      <td>40</td>\n",
       "      <td>Job name 7</td>\n",
       "    </tr>\n",
       "    <tr>\n",
       "      <th>9</th>\n",
       "      <td>Andy</td>\n",
       "      <td>36</td>\n",
       "      <td>Job name 10</td>\n",
       "    </tr>\n",
       "    <tr>\n",
       "      <th>7</th>\n",
       "      <td>Grace</td>\n",
       "      <td>31</td>\n",
       "      <td>Job name 8</td>\n",
       "    </tr>\n",
       "    <tr>\n",
       "      <th>1</th>\n",
       "      <td>Mary</td>\n",
       "      <td>30</td>\n",
       "      <td>Job name 2</td>\n",
       "    </tr>\n",
       "    <tr>\n",
       "      <th>0</th>\n",
       "      <td>Dave</td>\n",
       "      <td>28</td>\n",
       "      <td>Job name 1</td>\n",
       "    </tr>\n",
       "    <tr>\n",
       "      <th>3</th>\n",
       "      <td>Alice</td>\n",
       "      <td>19</td>\n",
       "      <td>Job name 4</td>\n",
       "    </tr>\n",
       "    <tr>\n",
       "      <th>2</th>\n",
       "      <td>Julia</td>\n",
       "      <td>12</td>\n",
       "      <td>Job name 3</td>\n",
       "    </tr>\n",
       "    <tr>\n",
       "      <th>4</th>\n",
       "      <td>Diana</td>\n",
       "      <td>10</td>\n",
       "      <td>Job name 5</td>\n",
       "    </tr>\n",
       "  </tbody>\n",
       "</table>\n",
       "</div>"
      ],
      "text/plain": [
       "    Name  Age    Job title\n",
       "5  Frank   49   Job name 6\n",
       "8   Xena   45   Job name 9\n",
       "6    Bob   40   Job name 7\n",
       "9   Andy   36  Job name 10\n",
       "7  Grace   31   Job name 8\n",
       "1   Mary   30   Job name 2\n",
       "0   Dave   28   Job name 1\n",
       "3  Alice   19   Job name 4\n",
       "2  Julia   12   Job name 3\n",
       "4  Diana   10   Job name 5"
      ]
     },
     "execution_count": 23,
     "metadata": {},
     "output_type": "execute_result"
    }
   ],
   "source": [
    "df = df.sort_values(by='Age', ascending=False)\n",
    "df"
   ]
  },
  {
   "cell_type": "markdown",
   "id": "ae0cb290-f35a-4363-9d83-18d3f00d8b3e",
   "metadata": {},
   "source": [
    "### 5.4 Applying a function in a column"
   ]
  },
  {
   "cell_type": "code",
   "execution_count": 26,
   "id": "45454a8f-086f-403e-8a73-0501990be7ff",
   "metadata": {
    "tags": []
   },
   "outputs": [
    {
     "data": {
      "text/html": [
       "<div>\n",
       "<style scoped>\n",
       "    .dataframe tbody tr th:only-of-type {\n",
       "        vertical-align: middle;\n",
       "    }\n",
       "\n",
       "    .dataframe tbody tr th {\n",
       "        vertical-align: top;\n",
       "    }\n",
       "\n",
       "    .dataframe thead th {\n",
       "        text-align: right;\n",
       "    }\n",
       "</style>\n",
       "<table border=\"1\" class=\"dataframe\">\n",
       "  <thead>\n",
       "    <tr style=\"text-align: right;\">\n",
       "      <th></th>\n",
       "      <th>Name</th>\n",
       "      <th>Age</th>\n",
       "      <th>Job title</th>\n",
       "      <th>New Age</th>\n",
       "    </tr>\n",
       "  </thead>\n",
       "  <tbody>\n",
       "    <tr>\n",
       "      <th>5</th>\n",
       "      <td>Frank</td>\n",
       "      <td>49</td>\n",
       "      <td>Job name 6</td>\n",
       "      <td>72</td>\n",
       "    </tr>\n",
       "    <tr>\n",
       "      <th>8</th>\n",
       "      <td>Xena</td>\n",
       "      <td>45</td>\n",
       "      <td>Job name 9</td>\n",
       "      <td>68</td>\n",
       "    </tr>\n",
       "    <tr>\n",
       "      <th>6</th>\n",
       "      <td>Bob</td>\n",
       "      <td>40</td>\n",
       "      <td>Job name 7</td>\n",
       "      <td>63</td>\n",
       "    </tr>\n",
       "    <tr>\n",
       "      <th>9</th>\n",
       "      <td>Andy</td>\n",
       "      <td>36</td>\n",
       "      <td>Job name 10</td>\n",
       "      <td>59</td>\n",
       "    </tr>\n",
       "    <tr>\n",
       "      <th>7</th>\n",
       "      <td>Grace</td>\n",
       "      <td>31</td>\n",
       "      <td>Job name 8</td>\n",
       "      <td>54</td>\n",
       "    </tr>\n",
       "    <tr>\n",
       "      <th>1</th>\n",
       "      <td>Mary</td>\n",
       "      <td>30</td>\n",
       "      <td>Job name 2</td>\n",
       "      <td>53</td>\n",
       "    </tr>\n",
       "    <tr>\n",
       "      <th>0</th>\n",
       "      <td>Dave</td>\n",
       "      <td>28</td>\n",
       "      <td>Job name 1</td>\n",
       "      <td>51</td>\n",
       "    </tr>\n",
       "    <tr>\n",
       "      <th>3</th>\n",
       "      <td>Alice</td>\n",
       "      <td>19</td>\n",
       "      <td>Job name 4</td>\n",
       "      <td>42</td>\n",
       "    </tr>\n",
       "    <tr>\n",
       "      <th>2</th>\n",
       "      <td>Julia</td>\n",
       "      <td>12</td>\n",
       "      <td>Job name 3</td>\n",
       "      <td>35</td>\n",
       "    </tr>\n",
       "    <tr>\n",
       "      <th>4</th>\n",
       "      <td>Diana</td>\n",
       "      <td>10</td>\n",
       "      <td>Job name 5</td>\n",
       "      <td>33</td>\n",
       "    </tr>\n",
       "  </tbody>\n",
       "</table>\n",
       "</div>"
      ],
      "text/plain": [
       "    Name  Age    Job title  New Age\n",
       "5  Frank   49   Job name 6       72\n",
       "8   Xena   45   Job name 9       68\n",
       "6    Bob   40   Job name 7       63\n",
       "9   Andy   36  Job name 10       59\n",
       "7  Grace   31   Job name 8       54\n",
       "1   Mary   30   Job name 2       53\n",
       "0   Dave   28   Job name 1       51\n",
       "3  Alice   19   Job name 4       42\n",
       "2  Julia   12   Job name 3       35\n",
       "4  Diana   10   Job name 5       33"
      ]
     },
     "execution_count": 26,
     "metadata": {},
     "output_type": "execute_result"
    }
   ],
   "source": [
    "def age_plus_one(x):\n",
    "    return x + 23\n",
    "\n",
    "df['New Age'] = df['Age'].apply(age_plus_one)\n",
    "df"
   ]
  },
  {
   "cell_type": "code",
   "execution_count": null,
   "id": "c11c7b36-e818-4e5f-9686-d7afdd20fceb",
   "metadata": {},
   "outputs": [],
   "source": []
  }
 ],
 "metadata": {
  "kernelspec": {
   "display_name": "Python 3 (ipykernel)",
   "language": "python",
   "name": "python3"
  },
  "language_info": {
   "codemirror_mode": {
    "name": "ipython",
    "version": 3
   },
   "file_extension": ".py",
   "mimetype": "text/x-python",
   "name": "python",
   "nbconvert_exporter": "python",
   "pygments_lexer": "ipython3",
   "version": "3.9.16"
  }
 },
 "nbformat": 4,
 "nbformat_minor": 5
}
